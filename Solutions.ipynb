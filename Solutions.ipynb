{
 "cells": [
  {
   "cell_type": "code",
   "execution_count": 2,
   "metadata": {
    "collapsed": false,
    "deletable": true,
    "editable": true
   },
   "outputs": [],
   "source": [
    "import tools\n",
    "import datetime\n",
    "import numpy as np"
   ]
  },
  {
   "cell_type": "code",
   "execution_count": 113,
   "metadata": {
    "collapsed": false,
    "deletable": true,
    "editable": true
   },
   "outputs": [],
   "source": [
    "df = tools.load_dataframe()"
   ]
  },
  {
   "cell_type": "code",
   "execution_count": 114,
   "metadata": {
    "collapsed": false,
    "deletable": true,
    "editable": true
   },
   "outputs": [
    {
     "data": {
      "text/html": [
       "<div>\n",
       "<table border=\"1\" class=\"dataframe\">\n",
       "  <thead>\n",
       "    <tr style=\"text-align: right;\">\n",
       "      <th></th>\n",
       "      <th>DAY</th>\n",
       "      <th>HOUR</th>\n",
       "      <th>OPCAT_CATEGORY</th>\n",
       "      <th>SIZE</th>\n",
       "      <th>SUBBRANCH_ID</th>\n",
       "    </tr>\n",
       "  </thead>\n",
       "  <tbody>\n",
       "    <tr>\n",
       "      <th>0</th>\n",
       "      <td>2014-10-25</td>\n",
       "      <td>16</td>\n",
       "      <td>SM</td>\n",
       "      <td>26</td>\n",
       "      <td>1005609</td>\n",
       "    </tr>\n",
       "    <tr>\n",
       "      <th>1</th>\n",
       "      <td>2014-04-14</td>\n",
       "      <td>11</td>\n",
       "      <td>SM</td>\n",
       "      <td>21</td>\n",
       "      <td>1005625</td>\n",
       "    </tr>\n",
       "    <tr>\n",
       "      <th>2</th>\n",
       "      <td>2014-10-25</td>\n",
       "      <td>11</td>\n",
       "      <td>SM</td>\n",
       "      <td>36</td>\n",
       "      <td>1005609</td>\n",
       "    </tr>\n",
       "    <tr>\n",
       "      <th>3</th>\n",
       "      <td>2015-08-14</td>\n",
       "      <td>12</td>\n",
       "      <td>CM</td>\n",
       "      <td>175</td>\n",
       "      <td>1006034</td>\n",
       "    </tr>\n",
       "    <tr>\n",
       "      <th>4</th>\n",
       "      <td>2014-04-14</td>\n",
       "      <td>12</td>\n",
       "      <td>SM</td>\n",
       "      <td>29</td>\n",
       "      <td>1005625</td>\n",
       "    </tr>\n",
       "  </tbody>\n",
       "</table>\n",
       "</div>"
      ],
      "text/plain": [
       "          DAY  HOUR OPCAT_CATEGORY  SIZE  SUBBRANCH_ID\n",
       "0  2014-10-25    16             SM    26       1005609\n",
       "1  2014-04-14    11             SM    21       1005625\n",
       "2  2014-10-25    11             SM    36       1005609\n",
       "3  2015-08-14    12             CM   175       1006034\n",
       "4  2014-04-14    12             SM    29       1005625"
      ]
     },
     "execution_count": 114,
     "metadata": {},
     "output_type": "execute_result"
    }
   ],
   "source": [
    "df.head()"
   ]
  },
  {
   "cell_type": "markdown",
   "metadata": {},
   "source": [
    "# Useful functions"
   ]
  },
  {
   "cell_type": "code",
   "execution_count": 15,
   "metadata": {
    "collapsed": true
   },
   "outputs": [],
   "source": [
    "def select(df, SUBBRANCH_ID, OPCAT_CATEGORY):\n",
    "    return df[(df[\"SUBBRANCH_ID\"] == SUBBRANCH_ID) & (\n",
    "        (df[\"OPCAT_CATEGORY\"] == OPCAT_CATEGORY) | (df[\"OPCAT_CATEGORY\"] == \"?\"))][[\"DAY\", \"HOUR\", \"SIZE\"]]"
   ]
  },
  {
   "cell_type": "code",
   "execution_count": 17,
   "metadata": {
    "collapsed": false
   },
   "outputs": [
    {
     "data": {
      "text/html": [
       "<div>\n",
       "<table border=\"1\" class=\"dataframe\">\n",
       "  <thead>\n",
       "    <tr style=\"text-align: right;\">\n",
       "      <th></th>\n",
       "      <th>DAY</th>\n",
       "      <th>HOUR</th>\n",
       "      <th>SIZE</th>\n",
       "    </tr>\n",
       "  </thead>\n",
       "  <tbody>\n",
       "    <tr>\n",
       "      <th>27</th>\n",
       "      <td>2015-11-09</td>\n",
       "      <td>19</td>\n",
       "      <td>69</td>\n",
       "    </tr>\n",
       "    <tr>\n",
       "      <th>31</th>\n",
       "      <td>2015-11-09</td>\n",
       "      <td>18</td>\n",
       "      <td>139</td>\n",
       "    </tr>\n",
       "    <tr>\n",
       "      <th>95</th>\n",
       "      <td>2015-02-10</td>\n",
       "      <td>9</td>\n",
       "      <td>90</td>\n",
       "    </tr>\n",
       "    <tr>\n",
       "      <th>96</th>\n",
       "      <td>2015-02-10</td>\n",
       "      <td>8</td>\n",
       "      <td>21</td>\n",
       "    </tr>\n",
       "    <tr>\n",
       "      <th>101</th>\n",
       "      <td>2015-03-18</td>\n",
       "      <td>9</td>\n",
       "      <td>95</td>\n",
       "    </tr>\n",
       "  </tbody>\n",
       "</table>\n",
       "</div>"
      ],
      "text/plain": [
       "            DAY  HOUR  SIZE\n",
       "27   2015-11-09    19    69\n",
       "31   2015-11-09    18   139\n",
       "95   2015-02-10     9    90\n",
       "96   2015-02-10     8    21\n",
       "101  2015-03-18     9    95"
      ]
     },
     "execution_count": 17,
     "metadata": {},
     "output_type": "execute_result"
    }
   ],
   "source": [
    "select(df, 1005609, \"CM\").head()"
   ]
  },
  {
   "cell_type": "markdown",
   "metadata": {
    "deletable": true,
    "editable": true
   },
   "source": [
    "# Baseline: predict average value"
   ]
  },
  {
   "cell_type": "code",
   "execution_count": 129,
   "metadata": {
    "collapsed": false,
    "deletable": true,
    "editable": true
   },
   "outputs": [
    {
     "name": "stdout",
     "output_type": "stream",
     "text": [
      "{'CM': [34.541660476791748, 32.057648384617941, 30.622546210786037, 29.224790412562733, 30.0782920105868], 'SM': [9.578927614803181, 9.8780970753063162, 10.00994915379826, 8.9381003007681556, 9.0786161835398111]}\n",
      "SM 9.49673806564 0.424847619244\n",
      "CM 31.3049874991 1.86227163569\n"
     ]
    }
   ],
   "source": [
    "dates = [\n",
    "    datetime.datetime.strptime(\"01.03.2015\", \"%d.%m.%Y\").date(),\n",
    "    datetime.datetime.strptime(\"01.04.2015\", \"%d.%m.%Y\").date(),\n",
    "    datetime.datetime.strptime(\"01.08.2015\", \"%d.%m.%Y\").date(),\n",
    "    datetime.datetime.strptime(\"01.09.2015\", \"%d.%m.%Y\").date(),\n",
    "    datetime.datetime.strptime(\"01.10.2015\", \"%d.%m.%Y\").date(),\n",
    "]\n",
    "def filter_standart_work_hours(df, start_time=8, end_time=19):\n",
    "    return df[(df[\"HOUR\"] >= start_time) & ((df[\"HOUR\"] <= end_time))]\n",
    "\n",
    "def filter_category(df, category):\n",
    "    return df[(df[\"OPCAT_CATEGORY\"] == category)]\n",
    "\n",
    "def make_train_test(df, bounder_data, acc, delta=datetime.timedelta(days=31), short_history=None):    \n",
    "    train = df[df[\"DAY\"] < bounder_data]\n",
    "    test = df[(df[\"DAY\"] >= bounder_data) & (df[\"DAY\"] < bounder_data + delta)]\n",
    "    \n",
    "    if short_history:\n",
    "        train = train[train[\"DAY\"] > bounder_data - short_history*delta]\n",
    "\n",
    "    train = filter_standart_work_hours(train)\n",
    "    test = filter_standart_work_hours(test)\n",
    "    \n",
    "    for category in [\"SM\", \"CM\"]:\n",
    "        acc_ = 0.\n",
    "        number_elements = 0.\n",
    "        for office in df[\"SUBBRANCH_ID\"].value_counts().keys():\n",
    "\n",
    "            train_ = select(train, office, category)\n",
    "            test_ = select(test, office, category)\n",
    "            \n",
    "            train_model = train_.groupby([\"HOUR\"])[\"SIZE\"].mean()\n",
    "            for hour in xrange(8, 20):\n",
    "                acc_ += np.sum((test_[test_[\"HOUR\"] == hour][\"SIZE\"] - train_model[hour])**2)\n",
    "                number_elements += len(test_[test_[\"HOUR\"] == hour][\"SIZE\"])\n",
    "                \n",
    "        acc[category].append((acc_ / number_elements)**0.5)\n",
    "    return acc\n",
    "\n",
    "acc = {\n",
    "    'SM' : [],\n",
    "    'CM' : [],\n",
    "}\n",
    "for data in dates:\n",
    "    make_train_test(df, data, acc)\n",
    "print acc\n",
    "print 'SM', np.array(acc['SM']).mean(), np.array(acc['SM']).std()\n",
    "print 'CM', np.array(acc['CM']).mean(), np.array(acc['CM']).std()"
   ]
  },
  {
   "cell_type": "markdown",
   "metadata": {
    "deletable": true,
    "editable": true
   },
   "source": [
    "# Baseline: predict average without new year holidays"
   ]
  },
  {
   "cell_type": "code",
   "execution_count": 130,
   "metadata": {
    "collapsed": false,
    "deletable": true,
    "editable": true
   },
   "outputs": [],
   "source": [
    "newyear_2014 = [\n",
    "    datetime.datetime.strptime(\"15.12.2014\", \"%d.%m.%Y\").date(),\n",
    "    datetime.datetime.strptime(\"15.01.2015\", \"%d.%m.%Y\").date()\n",
    "]\n",
    "newyear_2015 =  [\n",
    "    datetime.datetime.strptime(\"15.12.2015\", \"%d.%m.%Y\").date(),\n",
    "    datetime.datetime.strptime(\"12.01.2016\", \"%d.%m.%Y\").date()\n",
    "]"
   ]
  },
  {
   "cell_type": "code",
   "execution_count": 131,
   "metadata": {
    "collapsed": false,
    "deletable": true,
    "editable": true
   },
   "outputs": [
    {
     "name": "stdout",
     "output_type": "stream",
     "text": [
      "{'CM': [34.914407085942273, 32.30064541506303, 30.291982727736535, 29.17498237415613, 30.069831513066497], 'SM': [9.5190341785288233, 9.810352150248308, 9.9573458308977703, 8.895275544309218, 9.055403606801157]}\n",
      "SM 9.44748226216 0.41362132981\n",
      "CM 31.3503698232 2.05414982276\n"
     ]
    }
   ],
   "source": [
    "def remove_interval(df, holidays):\n",
    "    return df[(df[\"DAY\"] < holidays[0]) | (df[\"DAY\"] > holidays[1])]\n",
    "\n",
    "df_ordinal = remove_interval(df, newyear_2014)\n",
    "df_ordinal = remove_interval(df_ordinal, newyear_2015)\n",
    "\n",
    "acc = {\n",
    "    'SM' : [],\n",
    "    'CM' : [],\n",
    "}\n",
    "for data in dates:\n",
    "    make_train_test(df_ordinal, data, acc)\n",
    "print acc\n",
    "print 'SM', np.array(acc['SM']).mean(), np.array(acc['SM']).std()\n",
    "print 'CM', np.array(acc['CM']).mean(), np.array(acc['CM']).std()"
   ]
  },
  {
   "cell_type": "markdown",
   "metadata": {
    "deletable": true,
    "editable": true
   },
   "source": [
    "# Baseline: predict average without new year holidays (N month only)"
   ]
  },
  {
   "cell_type": "code",
   "execution_count": 132,
   "metadata": {
    "collapsed": false,
    "deletable": true,
    "editable": true
   },
   "outputs": [
    {
     "name": "stdout",
     "output_type": "stream",
     "text": [
      "{'CM': [30.873986983289122, 31.717454503785831, 27.986701212180559, 29.259745925022475, 28.643288862463681], 'SM': [8.7566748132077539, 8.9714892400323212, 9.3788223819991856, 8.6436746285265222, 8.8182385089949058]}\n",
      "SM 8.91377991455 0.255484598894\n",
      "CM 29.6962354973 1.39241890747\n"
     ]
    }
   ],
   "source": [
    "df_ordinal = remove_interval(df, newyear_2014)\n",
    "df_ordinal = remove_interval(df_ordinal, newyear_2015)\n",
    "\n",
    "acc = {\n",
    "    'SM' : [],\n",
    "    'CM' : [],\n",
    "}\n",
    "for data in dates:\n",
    "    make_train_test(df_ordinal, data, acc, datetime.timedelta(days=31), 1)\n",
    "print acc\n",
    "print 'SM', np.array(acc['SM']).mean(), np.array(acc['SM']).std()\n",
    "print 'CM', np.array(acc['CM']).mean(), np.array(acc['CM']).std()"
   ]
  },
  {
   "cell_type": "code",
   "execution_count": 133,
   "metadata": {
    "collapsed": false,
    "deletable": true,
    "editable": true
   },
   "outputs": [
    {
     "name": "stdout",
     "output_type": "stream",
     "text": [
      "{'CM': [30.873986983289122, 31.717454503785831, 27.986701212180559, 29.259745925022475, 28.643288862463681, 30.665740968094859, 31.669740936102453, 28.482046818136499, 28.279395396859687, 29.249509767368938], 'SM': [8.7566748132077539, 8.9714892400323212, 9.3788223819991856, 8.6436746285265222, 8.8182385089949058, 8.8851925019017468, 8.7994309284482224, 9.1256402207714, 8.6451080787405186, 8.8389922820730877]}\n",
      "SM 8.88632635847 0.213396436102\n",
      "CM 29.6827611373 1.34937967071\n"
     ]
    }
   ],
   "source": [
    "for data in dates:\n",
    "    make_train_test(df_ordinal, data, acc, datetime.timedelta(days=31), 3)\n",
    "print acc\n",
    "print 'SM', np.array(acc['SM']).mean(), np.array(acc['SM']).std()\n",
    "print 'CM', np.array(acc['CM']).mean(), np.array(acc['CM']).std()"
   ]
  },
  {
   "cell_type": "code",
   "execution_count": 134,
   "metadata": {
    "collapsed": false,
    "deletable": true,
    "editable": true
   },
   "outputs": [
    {
     "name": "stdout",
     "output_type": "stream",
     "text": [
      "{'CM': [30.873986983289122, 31.717454503785831, 27.986701212180559, 29.259745925022475, 28.643288862463681, 30.665740968094859, 31.669740936102453, 28.482046818136499, 28.279395396859687, 29.249509767368938, 31.670404396544029, 31.955603410499339, 30.244898858479733, 28.19947856382182, 28.98247479158475], 'SM': [8.7566748132077539, 8.9714892400323212, 9.3788223819991856, 8.6436746285265222, 8.8182385089949058, 8.8851925019017468, 8.7994309284482224, 9.1256402207714, 8.6451080787405186, 8.8389922820730877, 9.3479278843922557, 9.1138419660382102, 8.9949315240992345, 8.5581542210582597, 8.8261271212206331]}\n",
      "SM 8.9136164201 0.235536901541\n",
      "CM 29.8586980929 1.41107553478\n"
     ]
    }
   ],
   "source": [
    "for data in dates:\n",
    "    make_train_test(df_ordinal, data, acc, datetime.timedelta(days=31), 6)\n",
    "print acc\n",
    "print 'SM', np.array(acc['SM']).mean(), np.array(acc['SM']).std()\n",
    "print 'CM', np.array(acc['CM']).mean(), np.array(acc['CM']).std()"
   ]
  },
  {
   "cell_type": "markdown",
   "metadata": {},
   "source": [
    "# Average between 1 month ago, 2 month ago, 3 month ago at this day"
   ]
  },
  {
   "cell_type": "code",
   "execution_count": 128,
   "metadata": {
    "collapsed": false
   },
   "outputs": [
    {
     "name": "stdout",
     "output_type": "stream",
     "text": [
      "SM 9.91909825757 0.317954632331\n",
      "CM 27.8517293314 1.10314795562\n"
     ]
    }
   ],
   "source": [
    "def average_previous_month_this_day(df, bounder_data, acc, delta=datetime.timedelta(days=28)):    \n",
    "    train = df[df[\"DAY\"] < bounder_data]\n",
    "    test = df[(df[\"DAY\"] >= bounder_data) & (df[\"DAY\"] < bounder_data + delta)]\n",
    "    \n",
    "    for category in [\"SM\", \"CM\"]:\n",
    "        acc_ = 0.\n",
    "        number_elements = 0.\n",
    "        for office in df[\"SUBBRANCH_ID\"].value_counts().keys():\n",
    "\n",
    "            train_ = select(train, office, category)\n",
    "            test_ = select(test, office, category)\n",
    "            \n",
    "            train_model = train_.groupby([\"HOUR\"])[\"SIZE\"].mean()\n",
    "            \n",
    "            for index, row in test_.iterrows():\n",
    "                hour = row[\"HOUR\"]\n",
    "                model = 0\n",
    "                elements = 0\n",
    "                for k in [1, 2, 3]:\n",
    "                    train_day = train_[train_[\"DAY\"] == (row[\"DAY\"] - datetime.timedelta(days=k*28))]\n",
    "                    train_day_hour = train_day[train_day[\"HOUR\"] == hour]\n",
    "                    if (len(train_day_hour) > 0):\n",
    "                        model += train_day_hour.iloc[0][\"SIZE\"]\n",
    "                    if (len(train_day) == 0):\n",
    "                        continue\n",
    "                    elements += 1.\n",
    "                model /= elements\n",
    "                acc_ += (row[\"SIZE\"] - model)**2\n",
    "                number_elements += 1\n",
    "                 \n",
    "        acc[category].append((acc_ / number_elements)**0.5)\n",
    "    return acc\n",
    "\n",
    "acc = {\n",
    "    'SM' : [],\n",
    "    'CM' : [],\n",
    "}\n",
    "for data in dates:\n",
    "    average_previous_month_this_day(df, data, acc)\n",
    "print 'SM', np.array(acc['SM']).mean(), np.array(acc['SM']).std()\n",
    "print 'CM', np.array(acc['CM']).mean(), np.array(acc['CM']).std()"
   ]
  },
  {
   "cell_type": "markdown",
   "metadata": {},
   "source": [
    "# 12 weeks average at this week day"
   ]
  },
  {
   "cell_type": "code",
   "execution_count": 135,
   "metadata": {
    "collapsed": false
   },
   "outputs": [
    {
     "name": "stdout",
     "output_type": "stream",
     "text": [
      "SM 8.8897681614 0.189153101741\n",
      "CM 25.4834160897 1.42254802391\n"
     ]
    }
   ],
   "source": [
    "def average_previous_month_this_day(df, bounder_data, acc, delta=datetime.timedelta(days=28)):    \n",
    "    train = df[df[\"DAY\"] < bounder_data]\n",
    "    test = df[(df[\"DAY\"] >= bounder_data) & (df[\"DAY\"] < bounder_data + delta)]\n",
    "    \n",
    "    if short_history:\n",
    "        train = train[train[\"DAY\"] > bounder_data - short_history*delta]\n",
    "\n",
    "    for category in [\"SM\", \"CM\"]:\n",
    "        acc_ = 0.\n",
    "        number_elements = 0.\n",
    "        for office in df[\"SUBBRANCH_ID\"].value_counts().keys():\n",
    "\n",
    "            train_ = select(train, office, category)\n",
    "            test_ = select(test, office, category)\n",
    "            \n",
    "            train_model = train_.groupby([\"HOUR\"])[\"SIZE\"].mean()\n",
    "            \n",
    "            for index, row in test_.iterrows():\n",
    "                hour = row[\"HOUR\"]\n",
    "                model = 0\n",
    "                elements = 0\n",
    "                for k in range(1, 13):\n",
    "                    train_day = train_[train_[\"DAY\"] == (row[\"DAY\"] - datetime.timedelta(days=k*7))]\n",
    "                    train_day_hour = train_day[train_day[\"HOUR\"] == hour]\n",
    "                    if (len(train_day_hour) > 0):\n",
    "                        model += train_day_hour.iloc[0][\"SIZE\"]\n",
    "                    if (len(train_day) == 0):\n",
    "                        continue\n",
    "                    elements += 1.\n",
    "                model /= elements\n",
    "                acc_ += (row[\"SIZE\"] - model)**2\n",
    "                number_elements += 1\n",
    "                 \n",
    "        acc[category].append((acc_ / number_elements)**0.5)\n",
    "    return acc\n",
    "\n",
    "acc = {\n",
    "    'SM' : [],\n",
    "    'CM' : [],\n",
    "}\n",
    "for data in dates:\n",
    "    average_previous_month_this_day(df, data, acc)\n",
    "print 'SM', np.array(acc['SM']).mean(), np.array(acc['SM']).std()\n",
    "print 'CM', np.array(acc['CM']).mean(), np.array(acc['CM']).std()"
   ]
  },
  {
   "cell_type": "markdown",
   "metadata": {
    "deletable": true,
    "editable": true
   },
   "source": [
    "# Linear solution"
   ]
  },
  {
   "cell_type": "code",
   "execution_count": 153,
   "metadata": {
    "collapsed": false,
    "deletable": true,
    "editable": true
   },
   "outputs": [
    {
     "name": "stdout",
     "output_type": "stream",
     "text": [
      "SM 11.3859353579 0.714527456027\n",
      "CM 33.1885415762 2.7987646044\n"
     ]
    }
   ],
   "source": [
    "from sklearn import linear_model\n",
    "\n",
    "def use_linear_model(df, bounder_data, acc, delta=datetime.timedelta(days=28)):    \n",
    "    train = df[df[\"DAY\"] < bounder_data]\n",
    "    test = df[(df[\"DAY\"] >= bounder_data) & (df[\"DAY\"] < bounder_data + delta)]\n",
    "    \n",
    "    for category in [\"SM\", \"CM\"]:\n",
    "        acc_ = 0.\n",
    "        number_elements = 0.\n",
    "        for office in df[\"SUBBRANCH_ID\"].value_counts().keys():\n",
    "\n",
    "            train_ = select(train, office, category)\n",
    "            test_ = select(test, office, category)\n",
    "            \n",
    "            train_model = train_.groupby([\"HOUR\"])[\"SIZE\"].mean()\n",
    "            \n",
    "            for index, row in test_.iterrows():\n",
    "                hour = row[\"HOUR\"]\n",
    "                X = []\n",
    "                Y = []\n",
    "                for k in range(1, 13):\n",
    "                    train_day = train_[train_[\"DAY\"] == (row[\"DAY\"] - datetime.timedelta(days=k*7))]\n",
    "                    train_day_hour = train_day[train_day[\"HOUR\"] == hour]\n",
    "                    if (len(train_day_hour) > 0):\n",
    "                        X.append([k])\n",
    "                        Y.append(train_day_hour.iloc[0][\"SIZE\"])\n",
    "                    elif (len(train_day) > 0):\n",
    "                        X.append([k])\n",
    "                        Y.append(0)\n",
    "                    \n",
    "                    \n",
    "                X = np.array(X).reshape((-1, 1))\n",
    "                Y = np.array(Y)\n",
    "                reg = linear_model.LinearRegression()\n",
    "                reg.fit(X, Y)\n",
    "                prediction = reg.predict([[0]])[0]\n",
    "                \n",
    "                acc_ += (row[\"SIZE\"] - prediction)**2\n",
    "                number_elements += 1\n",
    "                 \n",
    "        acc[category].append((acc_ / number_elements)**0.5)\n",
    "    return acc\n",
    "\n",
    "acc = {\n",
    "    'SM' : [],\n",
    "    'CM' : [],\n",
    "}\n",
    "for data in dates:\n",
    "    use_linear_model(df, data, acc)\n",
    "print 'SM', np.array(acc['SM']).mean(), np.array(acc['SM']).std()\n",
    "print 'CM', np.array(acc['CM']).mean(), np.array(acc['CM']).std()"
   ]
  },
  {
   "cell_type": "code",
   "execution_count": null,
   "metadata": {
    "collapsed": false,
    "deletable": true,
    "editable": true,
    "scrolled": true
   },
   "outputs": [],
   "source": []
  },
  {
   "cell_type": "code",
   "execution_count": null,
   "metadata": {
    "collapsed": false
   },
   "outputs": [],
   "source": []
  },
  {
   "cell_type": "code",
   "execution_count": null,
   "metadata": {
    "collapsed": true
   },
   "outputs": [],
   "source": []
  }
 ],
 "metadata": {
  "kernelspec": {
   "display_name": "Python 2",
   "language": "python",
   "name": "python2"
  },
  "language_info": {
   "codemirror_mode": {
    "name": "ipython",
    "version": 2
   },
   "file_extension": ".py",
   "mimetype": "text/x-python",
   "name": "python",
   "nbconvert_exporter": "python",
   "pygments_lexer": "ipython2",
   "version": "2.7.12"
  }
 },
 "nbformat": 4,
 "nbformat_minor": 2
}
