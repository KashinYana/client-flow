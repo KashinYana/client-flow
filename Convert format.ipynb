{
 "cells": [
  {
   "cell_type": "markdown",
   "metadata": {
    "deletable": true,
    "editable": true
   },
   "source": [
    "# Read opcat_hist.csv"
   ]
  },
  {
   "cell_type": "code",
   "execution_count": 1,
   "metadata": {
    "collapsed": true,
    "deletable": true,
    "editable": true
   },
   "outputs": [],
   "source": [
    "file = \"opcat_hist.csv\""
   ]
  },
  {
   "cell_type": "code",
   "execution_count": 10,
   "metadata": {
    "collapsed": false,
    "deletable": true,
    "editable": true,
    "scrolled": true
   },
   "outputs": [
    {
     "name": "stdout",
     "output_type": "stream",
     "text": [
      "\"OPCAT_ID\";\"OPCAT_NAME\";\"EFFECTIVE_FROM_DTTM\";\"EFFECTIVE_TO_DTTM\";\"ACTIVE_FLG\";\"DELETED_FLG\"\r",
      "\r\n",
      "-99;\"По всем операциям\";\"01.01.1900\";\"01.06.2012\";1;1\r",
      "\r\n",
      "-99;\"По всем операциям\";\"01.06.2012\";\"23.08.2013\";1;0\r",
      "\r\n",
      "-99;\"По всем операциям\";\"23.08.2013\";\"31.12.5999\";1;0\r",
      "\r\n",
      "1;\"Вклады / Металлические счета / НПФ\";\"01.01.1900\";\"01.06.2012\";1;1\r",
      "\r\n",
      "1;\"Вклады / Металлические счета / НПФ\";\"01.06.2012\";\"23.08.2013\";1;0\r",
      "\r\n",
      "1;\"Вклады / Металлические счета / НПФ\";\"17.10.2013\";\"31.12.5999\";0;0\r",
      "\r\n",
      "1;\"Вклады / Металлические счета / НПФ\";\"23.08.2013\";\"17.10.2013\";1;0\r",
      "\r\n",
      "2;\"Банковские / Кредитные карты \";\"01.01.1900\";\"01.06.2012\";1;1\r",
      "\r\n",
      "2;\"Банковские / Кредитные карты \";\"01.06.2012\";\"04.12.2012\";1;0\r",
      "\r\n"
     ]
    }
   ],
   "source": [
    "! head opcat_hist.csv"
   ]
  },
  {
   "cell_type": "code",
   "execution_count": 3,
   "metadata": {
    "collapsed": false,
    "deletable": true,
    "editable": true
   },
   "outputs": [],
   "source": [
    "FIN = open(file, 'r')\n",
    "FIN.readline() # skip header\n",
    "opcat_hist_list = []\n",
    "for line in FIN:\n",
    "    line = line.strip().split(';')\n",
    "    opcat_hist = {\n",
    "        \"OPCAT_ID\" : line[0],\n",
    "        \"OPCAT_NAME\": line[1],\n",
    "        \"EFFECTIVE_FROM_DTTM\": line[2],\n",
    "        \"EFFECTIVE_TO_DTTM\": line[3],\n",
    "    }\n",
    "    opcat_hist_list.append(opcat_hist)"
   ]
  },
  {
   "cell_type": "code",
   "execution_count": 4,
   "metadata": {
    "collapsed": false,
    "deletable": true,
    "editable": true
   },
   "outputs": [
    {
     "data": {
      "text/plain": [
       "{'EFFECTIVE_FROM_DTTM': '\"01.01.1900\"',\n",
       " 'EFFECTIVE_TO_DTTM': '\"01.06.2012\"',\n",
       " 'OPCAT_ID': '-99',\n",
       " 'OPCAT_NAME': '\"\\xd0\\x9f\\xd0\\xbe \\xd0\\xb2\\xd1\\x81\\xd0\\xb5\\xd0\\xbc \\xd0\\xbe\\xd0\\xbf\\xd0\\xb5\\xd1\\x80\\xd0\\xb0\\xd1\\x86\\xd0\\xb8\\xd1\\x8f\\xd0\\xbc\"'}"
      ]
     },
     "execution_count": 4,
     "metadata": {},
     "output_type": "execute_result"
    }
   ],
   "source": [
    "opcat_hist_list[0]"
   ]
  },
  {
   "cell_type": "markdown",
   "metadata": {
    "deletable": true,
    "editable": true
   },
   "source": [
    "# Read OPCAT_ID_HIST_mapping.xlsx"
   ]
  },
  {
   "cell_type": "code",
   "execution_count": 15,
   "metadata": {
    "collapsed": true,
    "deletable": true,
    "editable": true
   },
   "outputs": [],
   "source": [
    "SM = set([1, 2, 3, 4, 12, 13, 16, 17, 20]) # sale manager\n",
    "SM_and_CM = set([-99])\n",
    "CM = set([5, 6, 7, 8, 9, 10, 11, 14, 15, 18, 19, 22, 23, 24, 25, 26, 30, 31, 51, 52]) # client manager"
   ]
  },
  {
   "cell_type": "markdown",
   "metadata": {
    "deletable": true,
    "editable": true
   },
   "source": [
    "# Read tickets"
   ]
  },
  {
   "cell_type": "code",
   "execution_count": 16,
   "metadata": {
    "collapsed": true,
    "deletable": true,
    "editable": true
   },
   "outputs": [],
   "source": [
    "files = [\n",
    "    \"tickets/tickets_2013_02.csv\",\n",
    "    \"tickets/tickets_2014_01.csv\",\n",
    "    \"tickets/tickets_2014_02.csv\",\n",
    "    \"tickets/tickets_2015_01.csv\",\n",
    "    \"tickets/tickets_2015_02.csv\",\n",
    "]"
   ]
  },
  {
   "cell_type": "code",
   "execution_count": 17,
   "metadata": {
    "collapsed": false,
    "deletable": true,
    "editable": true
   },
   "outputs": [
    {
     "name": "stdout",
     "output_type": "stream",
     "text": [
      "\"SUBBRANCH_ID\";\"EVENT_TYPE_ID\";\"CURR_OPCAT_ID\";\"EVENT_DTTM\";\"TICKET_ID\";\"CURR_COUNTER\";\"USER_ID\";\"TICKET_WAIT_TIME\";\"TICKET_SERV_TIME\"\r",
      "\r\n",
      "1005625;1;6;\"01.07.2013 08:31:14\";\"�001\";;;;\r",
      "\r\n",
      "1005625;2;6;\"01.07.2013 08:31:14\";\"�001\";6;55122;0;196\r",
      "\r\n",
      "1005625;3;6;\"01.07.2013 08:34:30\";\"�001\";6;55122;;\r",
      "\r\n",
      "1005625;1;6;\"01.07.2013 08:31:33\";\"�002\";;;;\r",
      "\r\n",
      "1005625;2;6;\"01.07.2013 08:34:30\";\"�002\";6;55122;177;207\r",
      "\r\n",
      "1005625;3;6;\"01.07.2013 08:37:57\";\"�002\";6;55122;;\r",
      "\r\n",
      "1005625;1;6;\"01.07.2013 08:31:43\";\"�003\";;;;\r",
      "\r\n",
      "1005625;2;6;\"01.07.2013 08:37:57\";\"�003\";6;55122;374;55\r",
      "\r\n",
      "1005625;3;6;\"01.07.2013 08:38:52\";\"�003\";6;55122;;\r",
      "\r\n"
     ]
    }
   ],
   "source": [
    "! head \"tickets/tickets_2013_02.csv\""
   ]
  },
  {
   "cell_type": "code",
   "execution_count": null,
   "metadata": {
    "collapsed": true,
    "deletable": true,
    "editable": true
   },
   "outputs": [],
   "source": [
    "tickets_list = []\n",
    "for file_ in files:\n",
    "    FIN = open(file_, 'r')\n",
    "    FIN.readline() # skip header\n",
    "    for line in FIN:\n",
    "        line = line.strip().split(';')\n",
    "        category = '?'\n",
    "        if int(line[2]) in SM:\n",
    "            category = 'SM'\n",
    "        elif int(line[2]) in CM:\n",
    "            category = 'CM'\n",
    "        ticket = {\n",
    "            \"SUBBRANCH_ID\" : int(line[0]),\n",
    "            \"OPCAT_CATEGORY\": category,\n",
    "            \"EVENT_DAY\": line[3].split()[0][1:],\n",
    "            \"EVENT_HOUR\": int(line[3].split()[1][:2]),\n",
    "        }\n",
    "        tickets_list.append(ticket)\n",
    "    FIN.close()"
   ]
  },
  {
   "cell_type": "code",
   "execution_count": 42,
   "metadata": {
    "collapsed": false,
    "deletable": true,
    "editable": true
   },
   "outputs": [
    {
     "data": {
      "text/plain": [
       "{'EVENT_DAY': '31.12.2015',\n",
       " 'EVENT_HOUR': 15,\n",
       " 'OPCAT_CATEGORY': 'CM',\n",
       " 'SUBBRANCH_ID': 1006255}"
      ]
     },
     "execution_count": 42,
     "metadata": {},
     "output_type": "execute_result"
    }
   ],
   "source": [
    "tickets_list[-2]"
   ]
  },
  {
   "cell_type": "code",
   "execution_count": 41,
   "metadata": {
    "collapsed": false,
    "deletable": true,
    "editable": true
   },
   "outputs": [
    {
     "data": {
      "text/plain": [
       "985005"
      ]
     },
     "execution_count": 41,
     "metadata": {},
     "output_type": "execute_result"
    }
   ],
   "source": [
    "len(tickets_list)"
   ]
  },
  {
   "cell_type": "code",
   "execution_count": 43,
   "metadata": {
    "collapsed": false,
    "deletable": true,
    "editable": true
   },
   "outputs": [],
   "source": [
    "FOUT = open('data.txt', 'w')\n",
    "for ticket in tickets_list:\n",
    "    FOUT.write(str(ticket['SUBBRANCH_ID']) + ' ')\n",
    "    FOUT.write(ticket['OPCAT_CATEGORY'] + ' ')\n",
    "    FOUT.write(ticket['EVENT_DAY'] + ' ')\n",
    "    FOUT.write(str(ticket['EVENT_HOUR']) + '\\n')\n",
    "FOUT.close()"
   ]
  },
  {
   "cell_type": "code",
   "execution_count": null,
   "metadata": {
    "collapsed": true,
    "deletable": true,
    "editable": true
   },
   "outputs": [],
   "source": []
  }
 ],
 "metadata": {
  "kernelspec": {
   "display_name": "Python 2",
   "language": "python",
   "name": "python2"
  },
  "language_info": {
   "codemirror_mode": {
    "name": "ipython",
    "version": 2
   },
   "file_extension": ".py",
   "mimetype": "text/x-python",
   "name": "python",
   "nbconvert_exporter": "python",
   "pygments_lexer": "ipython2",
   "version": "2.7.12"
  }
 },
 "nbformat": 4,
 "nbformat_minor": 1
}
